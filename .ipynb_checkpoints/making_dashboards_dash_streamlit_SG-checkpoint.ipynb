{
 "cells": [
  {
   "cell_type": "markdown",
   "metadata": {},
   "source": [
    "# Dashboarding (with Dash & Streamlit)"
   ]
  },
  {
   "cell_type": "markdown",
   "metadata": {},
   "source": [
    "- online-ds-ft-081720\n",
    "- 01/05/20"
   ]
  },
  {
   "cell_type": "markdown",
   "metadata": {},
   "source": [
    "## Learning Objectives"
   ]
  },
  {
   "cell_type": "markdown",
   "metadata": {},
   "source": [
    "- Developing a Dash app inside a Jupyter Notebook first with `JupyterDash`.\n",
    "\n",
    "- Become familiar with the fundamentals of making a Dash app.\n",
    "    - Learn The Required Imports and what they contain\n",
    "        - Dash HTML\n",
    "        - Dash Core Components\n",
    "    - Learn how to set up \n",
    "    - Callbacks\n",
    "    \n",
    "\n",
    "\n",
    "- Walk Through Basic \n",
    "- Walk-through using an API (Yahoo Finance stock prices via Pandas DataReader) to update dashboard data based on user input"
   ]
  },
  {
   "cell_type": "markdown",
   "metadata": {},
   "source": [
    "# Installing `Dash` and Our First Tutorial App"
   ]
  },
  {
   "cell_type": "markdown",
   "metadata": {},
   "source": [
    "- Check Dash's documentation for the installation code. \n",
    "    - https://dash.plotly.com/installation\n",
    "        - As of 01/04/20: \n",
    "            - `pip install dash==1.18.1`\n",
    "        \n",
    "> NOTE: You may need to install dash in your base Conda Environment if you get an error about no package named dash. To do so, just deactivate learn-env and then run the pip install command again.\n",
    "\n",
    "- To Switch to Your Base Environment in your terminal:\n",
    "    - On Mac:\n",
    "    ```bash\n",
    "    ## Deactivate Learn-Env\n",
    "    conda deactivate\n",
    "    ## Install Dash\n",
    "    pip install dash==1.18.1\n",
    "    ## Then reactivate learn-env\n",
    "    conda activate learn-env\n",
    "    ```\n",
    "    - On Windows:\n",
    "    ```bash\n",
    "    ## Deactivate Learn-Env\n",
    "    source deactivate\n",
    "    ## Install Dash\n",
    "    pip install dash==1.18.1\n",
    "    ## Then reactivate learn-env\n",
    "    source activate learn-env\n",
    "    ```"
   ]
  },
  {
   "cell_type": "code",
   "execution_count": null,
   "metadata": {
    "ExecuteTime": {
     "end_time": "2021-01-05T18:55:51.718091Z",
     "start_time": "2021-01-05T18:55:51.714604Z"
    }
   },
   "outputs": [],
   "source": [
    "import dash\n",
    "dash.__version__"
   ]
  },
  {
   "cell_type": "markdown",
   "metadata": {},
   "source": [
    "## Our First Basic App"
   ]
  },
  {
   "cell_type": "markdown",
   "metadata": {},
   "source": [
    "- Normally, Dash apps live inside of .py files (traditionall `app.py`) and we run them from our terminal with `python app.py`\n",
    "- The app then boots up and you can view it by navigating the displayed address  (usually http://127.0.0.1:8050/ )"
   ]
  },
  {
   "cell_type": "markdown",
   "metadata": {},
   "source": [
    "### App Layout\n",
    "- Copy the [Dash Tutorial's app layout](https://dash.plotly.com/layout) as a starting point (see below)\n",
    "- Let's first use it in an external .py file `for_class/tutorial_app.py`\n",
    "- Open a new terminal and navigate to the folder with the tutorial_app.py file. \n",
    "- Then run: `python tutorial_app.py`\n",
    "- Open the displayed URL (should start with 127...) to see the app!"
   ]
  },
  {
   "cell_type": "markdown",
   "metadata": {},
   "source": [
    "> Open and run `for_class/tutorial_app.py`"
   ]
  },
  {
   "cell_type": "markdown",
   "metadata": {},
   "source": [
    "# Using `JupyterDash` to Develop a Dash App in Your Notebook"
   ]
  },
  {
   "cell_type": "markdown",
   "metadata": {},
   "source": [
    "- To develop your apps inside your notebook instead of inside a .py file, use `JupyterDash`!\n",
    "\n",
    "- [`JupyterDash`is a package](https://github.com/plotly/jupyter-dash) that lets us run and display Dash apps inside our Jupyter notebook.\n",
    "- To Install:\n",
    "`pip install jupyter_plotly_dash`\n",
    "\n",
    "#### There are 2 major changes we have to make:\n",
    "1. All we have to do is change how we initialize our app:\n",
    "```python \n",
    "import dash\n",
    "app = dash.Dash(__name__, external_stylesheets=external_stylesheets)\n",
    "```\n",
    "becomes \n",
    "```python\n",
    "from jupyter_plotly_dash import JupyterDash\n",
    "app = JupyterDash('our app')\n",
    "```\n",
    "    - Unfortunately CSS styling is not supported in JupyterDash, so for now we will exclude the external_stylesheets argument. \n",
    "\n",
    "- And the `if __name__ == '__main__'` code at the bottom of the .py file:\n",
    "```python\n",
    "if __name__ == '__main__':\n",
    "    app.run_server(debug=True)\n",
    "```\n",
    "becomes just \n",
    "```python \n",
    "app\n",
    "```"
   ]
  },
  {
   "cell_type": "code",
   "execution_count": null,
   "metadata": {
    "ExecuteTime": {
     "end_time": "2021-01-05T18:55:51.725425Z",
     "start_time": "2021-01-05T18:55:51.722922Z"
    }
   },
   "outputs": [],
   "source": [
    "# !pip install -U jupyter_plotly_dash\n",
    "from jupyter_plotly_dash import JupyterDash"
   ]
  },
  {
   "cell_type": "code",
   "execution_count": null,
   "metadata": {
    "ExecuteTime": {
     "end_time": "2021-01-05T18:55:51.828194Z",
     "start_time": "2021-01-05T18:55:51.730365Z"
    }
   },
   "outputs": [],
   "source": [
    "# -*- coding: utf-8 -*-\n",
    "\n",
    "# Run this app with `python app.py` and\n",
    "# visit http://127.0.0.1:8050/ in your web browser.\n",
    "\n",
    "import dash\n",
    "import dash_core_components as dcc\n",
    "import dash_html_components as html\n",
    "import plotly.express as px\n",
    "import pandas as pd\n",
    "\n",
    "## OLD CODE\n",
    "# external_stylesheets = ['https://codepen.io/chriddyp/pen/bWLwgP.css']\n",
    "# app = dash.Dash(__name__, external_stylesheets=external_stylesheets)\n",
    "\n",
    "## NEW CODE\n",
    "from jupyter_plotly_dash import JupyterDash\n",
    "app = JupyterDash('our app')\n",
    "\n",
    "\n",
    "# assume you have a \"long-form\" data frame\n",
    "# see https://plotly.com/python/px-arguments/ for more options\n",
    "df = pd.DataFrame({\n",
    "    \"Fruit\": [\"Apples\", \"Oranges\", \"Bananas\", \"Apples\", \"Oranges\", \"Bananas\"],\n",
    "    \"Amount\": [4, 1, 2, 2, 4, 5],\n",
    "    \"City\": [\"SF\", \"SF\", \"SF\", \"Montreal\", \"Montreal\", \"Montreal\"]\n",
    "})\n",
    "\n",
    "fig = px.bar(df, x=\"Fruit\", y=\"Amount\", color=\"City\", barmode=\"group\")\n",
    "\n",
    "app.layout = html.Div(children=[\n",
    "    html.H1(children='Hello Dash'),\n",
    "\n",
    "    html.Div(children='''\n",
    "        Dash: A web application framework for Python.\n",
    "    '''),\n",
    "\n",
    "    dcc.Graph(\n",
    "        id='example-graph',\n",
    "        figure=fig\n",
    "    )\n",
    "])\n",
    "\n",
    "## OLD CODE\n",
    "# if __name__ == '__main__':\n",
    "#     app.run_server(debug=True)\n",
    "    \n",
    "    \n",
    "## NEW CODE\n",
    "\n",
    "app"
   ]
  },
  {
   "cell_type": "markdown",
   "metadata": {},
   "source": [
    "# Making Our Own App for Displaying Stock Data"
   ]
  },
  {
   "cell_type": "markdown",
   "metadata": {},
   "source": [
    "## Importing and Using Plotly, Pandas DataReader"
   ]
  },
  {
   "cell_type": "code",
   "execution_count": null,
   "metadata": {
    "ExecuteTime": {
     "end_time": "2021-01-05T18:55:51.832956Z",
     "start_time": "2021-01-05T18:55:51.829947Z"
    }
   },
   "outputs": [],
   "source": [
    "## General Imports\n",
    "import numpy as np\n",
    "np.random.seed(321)\n",
    "\n",
    "import pandas as pd\n",
    "import matplotlib.pyplot as plt\n",
    "import seaborn as sns\n",
    "plt.rcParams['figure.figsize'] = (12,4)"
   ]
  },
  {
   "cell_type": "markdown",
   "metadata": {},
   "source": [
    "### Pandas DataReader"
   ]
  },
  {
   "cell_type": "code",
   "execution_count": null,
   "metadata": {
    "ExecuteTime": {
     "end_time": "2021-01-05T18:55:51.846473Z",
     "start_time": "2021-01-05T18:55:51.835796Z"
    }
   },
   "outputs": [],
   "source": [
    "## Pandas DataReader Import\n",
    "# %conda install -c anaconda pandas-datareader\n",
    "import pandas_datareader as pdr"
   ]
  },
  {
   "cell_type": "code",
   "execution_count": null,
   "metadata": {
    "ExecuteTime": {
     "end_time": "2021-01-05T18:55:52.449671Z",
     "start_time": "2021-01-05T18:55:51.848357Z"
    }
   },
   "outputs": [],
   "source": [
    "## Get GOOGL stock price for 2012-2020 from Yahoo Finance\n",
    "example = pdr.DataReader('GOOGL','yahoo','2012','2020')\n",
    "example"
   ]
  },
  {
   "cell_type": "code",
   "execution_count": null,
   "metadata": {
    "ExecuteTime": {
     "end_time": "2021-01-05T18:55:52.681881Z",
     "start_time": "2021-01-05T18:55:52.451913Z"
    }
   },
   "outputs": [],
   "source": [
    "example.plot(y='Adj Close')"
   ]
  },
  {
   "cell_type": "markdown",
   "metadata": {},
   "source": [
    "### Plotting with Plotly Express"
   ]
  },
  {
   "cell_type": "markdown",
   "metadata": {},
   "source": [
    "- Plotly Express Overview:\n",
    "    - https://plotly.com/python/plotly-express/"
   ]
  },
  {
   "cell_type": "code",
   "execution_count": null,
   "metadata": {
    "ExecuteTime": {
     "end_time": "2021-01-05T18:55:52.693614Z",
     "start_time": "2021-01-05T18:55:52.685357Z"
    }
   },
   "outputs": [],
   "source": [
    "## Plotly Imports\n",
    "import plotly.express as px\n",
    "import plotly.io as pio\n",
    "pio.templates"
   ]
  },
  {
   "cell_type": "code",
   "execution_count": null,
   "metadata": {
    "ExecuteTime": {
     "end_time": "2021-01-05T18:55:52.724143Z",
     "start_time": "2021-01-05T18:55:52.695984Z"
    }
   },
   "outputs": [],
   "source": [
    "## Setting Plotly Theme\n",
    "pio.templates.default = \"seaborn\""
   ]
  },
  {
   "cell_type": "code",
   "execution_count": null,
   "metadata": {
    "ExecuteTime": {
     "end_time": "2021-01-05T18:55:52.884089Z",
     "start_time": "2021-01-05T18:55:52.727477Z"
    }
   },
   "outputs": [],
   "source": [
    "pfig = px.scatter(example,y='Adj Close',title='GOOGL')\n",
    "pfig"
   ]
  },
  {
   "cell_type": "markdown",
   "metadata": {},
   "source": [
    "### Extending to Multiple Stocks"
   ]
  },
  {
   "cell_type": "code",
   "execution_count": null,
   "metadata": {
    "ExecuteTime": {
     "end_time": "2021-01-05T18:55:55.664274Z",
     "start_time": "2021-01-05T18:55:52.886542Z"
    }
   },
   "outputs": [],
   "source": [
    "## List of symbols to grab\n",
    "symbols = ['FB','AAPL','GOOGL','AMZN','MSFT']\n",
    "data = {}\n",
    "for stock in symbols:\n",
    "    data[stock] = pdr.DataReader(stock,'yahoo','2012','2021')['Adj Close']\n",
    "df = pd.DataFrame(data)#.reset_index()\n",
    "df"
   ]
  },
  {
   "cell_type": "code",
   "execution_count": null,
   "metadata": {
    "ExecuteTime": {
     "end_time": "2021-01-05T18:55:56.001651Z",
     "start_time": "2021-01-05T18:55:55.665562Z"
    }
   },
   "outputs": [],
   "source": [
    "## PLotting with PLotly Express\n",
    "pfig = px.scatter(df,y=['FB','GOOGL'])\n",
    "pfig"
   ]
  },
  {
   "cell_type": "markdown",
   "metadata": {
    "ExecuteTime": {
     "end_time": "2020-12-30T22:36:27.399417Z",
     "start_time": "2020-12-30T22:36:27.397230Z"
    }
   },
   "source": [
    "### Functionizing Loading Data + Plotting"
   ]
  },
  {
   "cell_type": "code",
   "execution_count": null,
   "metadata": {
    "ExecuteTime": {
     "end_time": "2021-01-05T18:55:56.007087Z",
     "start_time": "2021-01-05T18:55:56.003069Z"
    }
   },
   "outputs": [],
   "source": [
    "import datetime as dt\n",
    "import time\n",
    "\n",
    "today = dt.date.today()\n",
    "def get_data(start_date='2012-02-01',end_date=today,\n",
    "             symbols = ['FB','AAPL','GOOGL','AMZN','MSFT','TSLA']):\n",
    "    \"\"\" Gets the historical stock dataa for the provided symbols for the \n",
    "    time period requested \n",
    "    \"\"\"\n",
    "    data = {}\n",
    "    for stock in symbols:\n",
    "        time.sleep(0.2)\n",
    "        try:\n",
    "            data[stock] = pdr.DataReader(stock,'yahoo',start_date,end_date)['Adj Close']\n",
    "        except:\n",
    "            print('Error with stock: '+stock)\n",
    "    df = pd.DataFrame(data)#.reset_index()\n",
    "    return df"
   ]
  },
  {
   "cell_type": "code",
   "execution_count": null,
   "metadata": {
    "ExecuteTime": {
     "end_time": "2021-01-05T18:56:00.620164Z",
     "start_time": "2021-01-05T18:55:56.009021Z"
    }
   },
   "outputs": [],
   "source": [
    "df = get_data(start_date='2016-03-01',end_date=today)\n",
    "df"
   ]
  },
  {
   "cell_type": "code",
   "execution_count": null,
   "metadata": {
    "ExecuteTime": {
     "end_time": "2021-01-05T18:56:00.950665Z",
     "start_time": "2021-01-05T18:56:00.621891Z"
    }
   },
   "outputs": [],
   "source": [
    "def plot_stocks(df,stocks=[]):\n",
    "    if len(stocks)==0:\n",
    "        stocks=None\n",
    "    pfig = px.scatter(df,y=stocks)\n",
    "    return pfig\n",
    "    \n",
    "fig = plot_stocks(df)\n",
    "fig"
   ]
  },
  {
   "cell_type": "code",
   "execution_count": null,
   "metadata": {
    "ExecuteTime": {
     "end_time": "2021-01-05T18:56:01.121216Z",
     "start_time": "2021-01-05T18:56:00.952545Z"
    }
   },
   "outputs": [],
   "source": [
    "## PLotting 2 of the available cols   \n",
    "fig = plot_stocks(df,['FB','MSFT'])\n",
    "fig"
   ]
  },
  {
   "cell_type": "markdown",
   "metadata": {},
   "source": [
    "## Making Our First Stock Data App"
   ]
  },
  {
   "cell_type": "markdown",
   "metadata": {},
   "source": [
    "- For our first app we will get the data for a larger number of stock symbols\n",
    "- We will then provide a Dropdown box for the user to select which stocks they would like to see."
   ]
  },
  {
   "cell_type": "code",
   "execution_count": null,
   "metadata": {
    "ExecuteTime": {
     "end_time": "2021-01-05T18:56:01.285639Z",
     "start_time": "2021-01-05T18:56:01.123317Z"
    }
   },
   "outputs": [],
   "source": [
    "## getting S&P500 symbols\n",
    "import requests,bs4\n",
    "url= 'https://en.wikipedia.org/wiki/List_of_S%26P_500_companies'\n",
    "response = requests.get(url)\n",
    "response.status_code"
   ]
  },
  {
   "cell_type": "code",
   "execution_count": null,
   "metadata": {
    "ExecuteTime": {
     "end_time": "2021-01-05T18:56:01.741358Z",
     "start_time": "2021-01-05T18:56:01.288020Z"
    }
   },
   "outputs": [],
   "source": [
    "## Get tables from url\n",
    "result = pd.read_html(response.content)\n",
    "print(type(result))\n",
    "print(len(result))\n",
    "result[0]"
   ]
  },
  {
   "cell_type": "code",
   "execution_count": null,
   "metadata": {
    "ExecuteTime": {
     "end_time": "2021-01-05T18:56:01.754739Z",
     "start_time": "2021-01-05T18:56:01.743204Z"
    }
   },
   "outputs": [],
   "source": [
    "## Gettting S&P500\n",
    "sp500 = result[0].copy()\n",
    "sp500.head()"
   ]
  },
  {
   "cell_type": "code",
   "execution_count": null,
   "metadata": {
    "ExecuteTime": {
     "end_time": "2021-01-05T18:56:01.761757Z",
     "start_time": "2021-01-05T18:56:01.756495Z"
    }
   },
   "outputs": [],
   "source": [
    "## Let's grab just one sector \n",
    "sp500['GICS Sector'].value_counts()"
   ]
  },
  {
   "cell_type": "code",
   "execution_count": null,
   "metadata": {
    "ExecuteTime": {
     "end_time": "2021-01-05T18:56:01.775532Z",
     "start_time": "2021-01-05T18:56:01.770094Z"
    }
   },
   "outputs": [],
   "source": [
    "## Pick a sector to use\n",
    "sector='Communication Services'\n",
    "stocks_to_get = sp500.loc[ sp500['GICS Sector'] == sector,\n",
    "                          'Symbol'].to_list()\n",
    "stocks_to_get"
   ]
  },
  {
   "cell_type": "code",
   "execution_count": null,
   "metadata": {
    "ExecuteTime": {
     "end_time": "2021-01-05T18:56:01.780766Z",
     "start_time": "2021-01-05T18:56:01.777395Z"
    }
   },
   "outputs": [],
   "source": [
    "len(stocks_to_get)"
   ]
  },
  {
   "cell_type": "code",
   "execution_count": null,
   "metadata": {
    "ExecuteTime": {
     "end_time": "2021-01-05T18:56:01.785007Z",
     "start_time": "2021-01-05T18:56:01.782819Z"
    }
   },
   "outputs": [],
   "source": [
    "## Getting the data FIRST\n"
   ]
  },
  {
   "cell_type": "markdown",
   "metadata": {},
   "source": [
    "### Constructing our App"
   ]
  },
  {
   "cell_type": "code",
   "execution_count": null,
   "metadata": {
    "ExecuteTime": {
     "end_time": "2021-01-05T18:52:57.137581Z",
     "start_time": "2021-01-05T18:52:57.135410Z"
    }
   },
   "outputs": [],
   "source": [
    "import dash\n",
    "import dash_core_components as dcc\n",
    "import dash_html_components as html"
   ]
  },
  {
   "cell_type": "markdown",
   "metadata": {},
   "source": [
    "- `dash_core_components` (dcc) contains widgets.\n",
    "    - We will use `dcc.Dropdown` to select stocks to display\n",
    "- `dash_html_components` (html) contains HTML tags as objects. (Div, H1, etc.)\n",
    "    - We will use `html` for the layout of our app."
   ]
  },
  {
   "cell_type": "code",
   "execution_count": null,
   "metadata": {
    "ExecuteTime": {
     "end_time": "2021-01-05T18:56:12.612298Z",
     "start_time": "2021-01-05T18:56:12.610375Z"
    }
   },
   "outputs": [],
   "source": [
    "## App here\n",
    "\n"
   ]
  },
  {
   "cell_type": "markdown",
   "metadata": {},
   "source": [
    "## Our App with Dropdown"
   ]
  },
  {
   "cell_type": "markdown",
   "metadata": {},
   "source": [
    "- The Dropdown menu expects a list of dictionaries for the options to display. \n",
    "    - Each element of the list gets a `'label'` (what to show the user) and a `'value'` (what the actual data is named).\n",
    "    \n",
    "    \n",
    "```python\n",
    "\n",
    "stock_options= [{'MSFT':'MSFT'},{'AMZN':'AMZN'}]\n",
    "```\n"
   ]
  },
  {
   "cell_type": "code",
   "execution_count": null,
   "metadata": {
    "ExecuteTime": {
     "end_time": "2021-01-05T18:52:58.916313Z",
     "start_time": "2021-01-05T18:52:58.909936Z"
    }
   },
   "outputs": [],
   "source": [
    "def make_options(menu_choices,ignore_cols=['Date']):\n",
    "    \"\"\"Returns list of dictionary with {'label':menu_choice,'value':menu_choice}\"\"\"\n",
    "    options = []\n",
    "    for choice in menu_choices:\n",
    "        if choice not in ignore_cols:\n",
    "            options.append({'label':choice,'value':choice})\n",
    "    return options\n",
    "\n",
    "make_options(df)"
   ]
  },
  {
   "cell_type": "code",
   "execution_count": null,
   "metadata": {
    "ExecuteTime": {
     "end_time": "2021-01-05T18:56:31.030908Z",
     "start_time": "2021-01-05T18:56:31.028777Z"
    },
    "scrolled": true
   },
   "outputs": [],
   "source": [
    "## App here\n"
   ]
  },
  {
   "cell_type": "markdown",
   "metadata": {},
   "source": [
    "> #### It is still showing ALL of the data. Why? <br> Because we need Callbacks!\n"
   ]
  },
  {
   "cell_type": "markdown",
   "metadata": {},
   "source": [
    "# Dash Callbacks"
   ]
  },
  {
   "cell_type": "markdown",
   "metadata": {},
   "source": [
    "**Callbacks are functions that handle the interactivity between elements of our app**\n",
    "\n",
    ">#### Callback Documentation\\\n",
    "- https://dash.plotly.com/basic-callbacks\n",
    "- https://dash.plotly.com/advanced-callbacks"
   ]
  },
  {
   "cell_type": "markdown",
   "metadata": {},
   "source": [
    "## Basic Callbacks"
   ]
  },
  {
   "cell_type": "markdown",
   "metadata": {},
   "source": [
    "### To write a callback you will need: "
   ]
  },
  {
   "cell_type": "markdown",
   "metadata": {},
   "source": [
    "1. Additional imports from dash.dependencies\n",
    "```python\n",
    "from dash.dependencies import Input, Output\n",
    "```\n",
    "2. To make sure all components that need to connect together to have an `id`\n",
    "```python\n",
    "dcc.Dropdown(id='choose_stocks',...\n",
    "         ```\n",
    "- A function that will update the visuals displayed\n",
    "```python\n",
    "def update_stocks(stocks):\n",
    "    return plot_stocks(df,stocks=stocks)\n",
    "```\n",
    "- A decorator function above that which uses the `Input` and `Output` classes to connect the arguments of your function with the pieces of the app that contain the information needed.\n",
    "\n",
    "```python\n",
    "@app.callback(Output('line_plot','figure'),\n",
    "              [Input('choose_stocks','value')])\n",
    "def update_stocks(stocks):\n",
    "    return plot_stocks(df,stocks=stocks)\n",
    "```"
   ]
  },
  {
   "cell_type": "code",
   "execution_count": null,
   "metadata": {
    "ExecuteTime": {
     "end_time": "2021-01-05T18:56:37.945344Z",
     "start_time": "2021-01-05T18:56:37.942910Z"
    }
   },
   "outputs": [],
   "source": [
    "## App Here"
   ]
  },
  {
   "cell_type": "markdown",
   "metadata": {},
   "source": [
    "## More Advanced Callbacks"
   ]
  },
  {
   "cell_type": "markdown",
   "metadata": {},
   "source": [
    "- Multiple Inputs\n",
    "- Using State to delay processing updates"
   ]
  },
  {
   "cell_type": "markdown",
   "metadata": {},
   "source": [
    "### Adding Date Selection\n",
    "- https://dash.plotly.com/dash-core-components/datepickerrange"
   ]
  },
  {
   "cell_type": "code",
   "execution_count": null,
   "metadata": {
    "ExecuteTime": {
     "end_time": "2021-01-05T18:53:00.103623Z",
     "start_time": "2021-01-05T18:53:00.055697Z"
    }
   },
   "outputs": [],
   "source": [
    "import datetime as dt\n",
    "from datetime import date\n",
    "import pandas_datareader as pdr\n",
    "\n",
    "import dash\n",
    "import dash_core_components as dcc\n",
    "import dash_html_components as html\n",
    "from dash.dependencies import Input, Output,State\n",
    "\n",
    "import numpy as np\n",
    "np.random.seed(321)\n",
    "\n",
    "import pandas as pd\n",
    "import matplotlib.pyplot as plt\n",
    "import seaborn as sns\n",
    "plt.rcParams['figure.figsize'] = (12,4)\n",
    "\n",
    "import plotly.express as px\n",
    "import plotly.io as pio\n",
    "pio.templates\n",
    "\n",
    "\n",
    "today = dt.date.today().strftime(\"%Y-%m-%d\")\n",
    "def get_data(start_date='2012-02-01',end_date=today,symbols = ['FB','AAPL','GOOGL','AMZN','MSFT']):\n",
    "    \n",
    "    data = {}\n",
    "    for stock in symbols:\n",
    "        try:\n",
    "            data[stock] = pdr.DataReader(stock,'yahoo',start_date,end_date)['Adj Close']\n",
    "        except:\n",
    "            print('Error with stock: '+stock)\n",
    "    df = pd.DataFrame(data).reset_index()\n",
    "    return df\n",
    "\n",
    "\n",
    "def plot_stocks_df(df=None,stocks=['FB','AAPL']):\n",
    "    if df is None:\n",
    "        df = get_data(stocks)#.reset_index()\n",
    "    stocks_exist = [s for s in stocks if s in df.columns]\n",
    "    pfig = px.scatter(df,x='Date',y=stocks_exist)\n",
    "    return pfig\n",
    "\n",
    "from jupyter_plotly_dash import JupyterDash\n",
    "app = JupyterDash('Example', \n",
    "                  serve_locally=False)\n",
    "defaults = ['MSFT','AMZN']\n",
    "# df = get_data(date(2012, 1, 1))\n",
    "\n",
    "app.layout = html.Div(children = [\n",
    "    html.H1('Our AMAZING Dashboard'),\n",
    "    \n",
    "    html.Div(children=[\n",
    "        html.Div(style={\"border\":'1px solid black','padding':'3px'},id='menu',children=[\n",
    "            html.H3('Enter stock symbols, separated by a comma.\\nPress Enter to update.'),\n",
    "\n",
    "            dcc.Input(id='choose_stocks',value='MSFT,AMZN',\n",
    "                      placeholder='MSFT,AAPL',#,\n",
    "                         style={'width': '90%', 'height': 50}),           \n",
    "\n",
    "            dcc.DatePickerRange( id='my-date-picker-range',\n",
    "                                start_date=date(2012,1,1),\n",
    "                                min_date_allowed=date(2010, 1, 1),\n",
    "                                max_date_allowed=today,#date.today(),#date(2021),\n",
    "                                end_date=today,style={'width':'50%'}),#date.today()), #date(2017, 8, 25)),\n",
    "            html.Button('Submit',id='submit',style={'size':'40 px'})\n",
    "    \n",
    "        ]),\n",
    "        \n",
    "        dcc.Graph(id='line_plot')\n",
    "\n",
    "    ])\n",
    "])\n",
    "\n",
    "@app.callback(Output('line_plot','figure'),\n",
    "              [Input('submit','n_clicks')],\n",
    "              [State('choose_stocks','value'),\n",
    "               State('my-date-picker-range', 'start_date'),\n",
    "               State('my-date-picker-range', 'end_date')])\n",
    "def update_stocks(n_clicks, stocks,start_date,end_date):\n",
    "    stocks = stocks.split(',')\n",
    "    plot_df = get_data(start_date,end_date,symbols=stocks)\n",
    "    return plot_stocks_df(df=plot_df,stocks=stocks)#,start_date,end_date)\n",
    "    \n",
    "app"
   ]
  },
  {
   "cell_type": "markdown",
   "metadata": {},
   "source": [
    "# Streamlit"
   ]
  },
  {
   "cell_type": "markdown",
   "metadata": {},
   "source": [
    "- Streamlit is a new, easy-to-use package for developing apps.\n",
    "    - https://www.streamlit.io/\n",
    "    \n",
    "- It is easier to use than Dash, but not as customizable. \n",
    "\n"
   ]
  },
  {
   "cell_type": "markdown",
   "metadata": {},
   "source": [
    "> Open `for_class>streamlit_app.py` and compare!"
   ]
  },
  {
   "cell_type": "code",
   "execution_count": null,
   "metadata": {
    "ExecuteTime": {
     "end_time": "2021-01-05T18:53:00.118238Z",
     "start_time": "2021-01-05T18:53:00.111394Z"
    }
   },
   "outputs": [],
   "source": [
    "from IPython.display import display,Markdown\n",
    "with open('for_class/streamlit_app.py') as file:\n",
    "    display(Markdown(\"```python\\n\"+file.read()+'\\n```'))"
   ]
  },
  {
   "cell_type": "markdown",
   "metadata": {},
   "source": [
    "# Appendix / If There's Time "
   ]
  },
  {
   "cell_type": "markdown",
   "metadata": {},
   "source": [
    "## Deploying Your App For Free with Heroku\n"
   ]
  },
  {
   "cell_type": "markdown",
   "metadata": {},
   "source": [
    "1. Go through official Heroku Python Tutorial:\n",
    "    - https://devcenter.heroku.com/articles/getting-started-with-python\n",
    "    \n",
    "    \n",
    "    \n",
    "2. Use this template as a starting point for your app.\n",
    "    - ~~https://github.com/plotly/dash-heroku-template~~\n",
    "    - My Modified Template:\n",
    "        - https://github.com/jirvingphd/dash-heroku-template.git\n",
    "    \n",
    "    \n",
    "3. Go through official Dash tutorial to get your app.py started with their example Layout app\n",
    "    - https://dash.plotly.com/\n",
    "    \n",
    "4. Checkout the Official Dash/Herokuapp Tutorial for how to make your repo into an app \n",
    "    - https://dash.plotly.com/deployment\n",
    "  "
   ]
  }
 ],
 "metadata": {
  "kernelspec": {
   "display_name": "learn-env",
   "language": "python",
   "name": "learn-env"
  },
  "language_info": {
   "codemirror_mode": {
    "name": "ipython",
    "version": 3
   },
   "file_extension": ".py",
   "mimetype": "text/x-python",
   "name": "python",
   "nbconvert_exporter": "python",
   "pygments_lexer": "ipython3",
   "version": "3.6.11"
  },
  "toc": {
   "base_numbering": 1,
   "nav_menu": {},
   "number_sections": true,
   "sideBar": true,
   "skip_h1_title": false,
   "title_cell": "Table of Contents",
   "title_sidebar": "Contents",
   "toc_cell": false,
   "toc_position": {
    "height": "calc(100% - 180px)",
    "left": "10px",
    "top": "150px",
    "width": "256px"
   },
   "toc_section_display": true,
   "toc_window_display": true
  },
  "widgets": {
   "application/vnd.jupyter.widget-state+json": {
    "state": {},
    "version_major": 2,
    "version_minor": 0
   }
  }
 },
 "nbformat": 4,
 "nbformat_minor": 2
}
